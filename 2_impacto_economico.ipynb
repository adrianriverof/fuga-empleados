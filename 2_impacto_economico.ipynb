{
 "cells": [
  {
   "cell_type": "markdown",
   "id": "a52374fe",
   "metadata": {},
   "source": [
    "# 2- Impacto económico"
   ]
  },
  {
   "cell_type": "markdown",
   "id": "2ecb0885",
   "metadata": {},
   "source": [
    "### ¿Cual es el impacto económico de este problema?"
   ]
  },
  {
   "cell_type": "markdown",
   "id": "c2b3b955",
   "metadata": {},
   "source": [
    "Según el estudio \"Cost of Turnover\" del Center for American Progress:\n",
    "\n",
    "* El coste de la fuga de los empleados que ganan menos de 30000 es del 16,1% de su salario\n",
    "\n",
    "* El coste de la fuga de los empleados que ganan entre 30000-50000 es del 19,7% de su salario\n",
    "\n",
    "* El coste de la fuga de los empleados que ganan entre 50000-75000 es del 20,4% de su salario\n",
    "\n",
    "* El coste de la fuga de los empleados que ganan más de 75000 es del 21% de su salario"
   ]
  },
  {
   "cell_type": "code",
   "execution_count": 3,
   "id": "80088a2a",
   "metadata": {},
   "outputs": [],
   "source": [
    "import numpy as np\n",
    "import pandas as pd\n",
    "import matplotlib.pyplot as plt\n",
    "%matplotlib inline"
   ]
  },
  {
   "cell_type": "code",
   "execution_count": 4,
   "id": "530d9a5e",
   "metadata": {},
   "outputs": [],
   "source": [
    "# carga de datos\n",
    "\n",
    "df = pd.read_csv('AbandonoProcesado.csv')"
   ]
  },
  {
   "cell_type": "code",
   "execution_count": 8,
   "id": "3d61af5d",
   "metadata": {},
   "outputs": [
    {
     "data": {
      "text/html": [
       "<div>\n",
       "<style scoped>\n",
       "    .dataframe tbody tr th:only-of-type {\n",
       "        vertical-align: middle;\n",
       "    }\n",
       "\n",
       "    .dataframe tbody tr th {\n",
       "        vertical-align: top;\n",
       "    }\n",
       "\n",
       "    .dataframe thead th {\n",
       "        text-align: right;\n",
       "    }\n",
       "</style>\n",
       "<table border=\"1\" class=\"dataframe\">\n",
       "  <thead>\n",
       "    <tr style=\"text-align: right;\">\n",
       "      <th></th>\n",
       "      <th>salario_mes</th>\n",
       "      <th>salario_ano</th>\n",
       "    </tr>\n",
       "  </thead>\n",
       "  <tbody>\n",
       "    <tr>\n",
       "      <th>0</th>\n",
       "      <td>5993</td>\n",
       "      <td>71916</td>\n",
       "    </tr>\n",
       "    <tr>\n",
       "      <th>1</th>\n",
       "      <td>5130</td>\n",
       "      <td>61560</td>\n",
       "    </tr>\n",
       "    <tr>\n",
       "      <th>2</th>\n",
       "      <td>2090</td>\n",
       "      <td>25080</td>\n",
       "    </tr>\n",
       "    <tr>\n",
       "      <th>3</th>\n",
       "      <td>2909</td>\n",
       "      <td>34908</td>\n",
       "    </tr>\n",
       "    <tr>\n",
       "      <th>4</th>\n",
       "      <td>3468</td>\n",
       "      <td>41616</td>\n",
       "    </tr>\n",
       "    <tr>\n",
       "      <th>...</th>\n",
       "      <td>...</td>\n",
       "      <td>...</td>\n",
       "    </tr>\n",
       "    <tr>\n",
       "      <th>1465</th>\n",
       "      <td>2571</td>\n",
       "      <td>30852</td>\n",
       "    </tr>\n",
       "    <tr>\n",
       "      <th>1466</th>\n",
       "      <td>9991</td>\n",
       "      <td>119892</td>\n",
       "    </tr>\n",
       "    <tr>\n",
       "      <th>1467</th>\n",
       "      <td>6142</td>\n",
       "      <td>73704</td>\n",
       "    </tr>\n",
       "    <tr>\n",
       "      <th>1468</th>\n",
       "      <td>5390</td>\n",
       "      <td>64680</td>\n",
       "    </tr>\n",
       "    <tr>\n",
       "      <th>1469</th>\n",
       "      <td>4404</td>\n",
       "      <td>52848</td>\n",
       "    </tr>\n",
       "  </tbody>\n",
       "</table>\n",
       "<p>1470 rows × 2 columns</p>\n",
       "</div>"
      ],
      "text/plain": [
       "      salario_mes  salario_ano\n",
       "0            5993        71916\n",
       "1            5130        61560\n",
       "2            2090        25080\n",
       "3            2909        34908\n",
       "4            3468        41616\n",
       "...           ...          ...\n",
       "1465         2571        30852\n",
       "1466         9991       119892\n",
       "1467         6142        73704\n",
       "1468         5390        64680\n",
       "1469         4404        52848\n",
       "\n",
       "[1470 rows x 2 columns]"
      ]
     },
     "execution_count": 8,
     "metadata": {},
     "output_type": "execute_result"
    }
   ],
   "source": [
    "# Creamos una nueva variable salario_ano del empleado\n",
    "df['salario_ano'] = df.salario_mes.transform(lambda x: x*12)\n",
    "df[['salario_mes','salario_ano']]"
   ]
  },
  {
   "cell_type": "code",
   "execution_count": 9,
   "id": "10f2f04d",
   "metadata": {},
   "outputs": [],
   "source": [
    "# Calculamos el impacto económico de cada empleado si deja la empresa\n",
    "\n",
    "#Lista de condiciones\n",
    "condiciones = [(df['salario_ano'] <= 30000),\n",
    "               (df['salario_ano'] > 30000) & (df['salario_ano'] <= 50000),\n",
    "               (df['salario_ano'] > 50000) & (df['salario_ano'] <= 75000),\n",
    "               (df['salario_ano'] > 75000)]\n",
    "\n",
    "#Lista de resultados\n",
    "resultados = [df.salario_ano * 0.161, df.salario_ano * 0.197, df.salario_ano * 0.204, df.salario_ano * 0.21]\n",
    "                \n",
    "#Aplicamos select\n",
    "df['impacto_abandono'] = np.select(condiciones,resultados, default = -999)\n"
   ]
  },
  {
   "cell_type": "markdown",
   "id": "bfb02372",
   "metadata": {},
   "source": [
    "### ¿Cúanto nos ha costado este problema en el último año?"
   ]
  },
  {
   "cell_type": "code",
   "execution_count": 10,
   "id": "202b1aa3",
   "metadata": {},
   "outputs": [
    {
     "data": {
      "text/plain": [
       "2719005.912"
      ]
     },
     "execution_count": 10,
     "metadata": {},
     "output_type": "execute_result"
    }
   ],
   "source": [
    "coste_total =  df.loc[df.abandono == 1].impacto_abandono.sum()\n",
    "coste_total"
   ]
  },
  {
   "cell_type": "markdown",
   "id": "4ab69163",
   "metadata": {},
   "source": [
    "### ¿Cuanto nos cuesta que los empleados no estén motivados? (pérdidas en implicación == Baja)"
   ]
  },
  {
   "cell_type": "code",
   "execution_count": 11,
   "id": "669c5c26",
   "metadata": {},
   "outputs": [
    {
     "data": {
      "text/plain": [
       "368672.688"
      ]
     },
     "execution_count": 11,
     "metadata": {},
     "output_type": "execute_result"
    }
   ],
   "source": [
    "df.loc[(df.abandono == 1) & (df.implicacion == 'Baja')].impacto_abandono.sum()"
   ]
  },
  {
   "cell_type": "markdown",
   "id": "8f6ff43d",
   "metadata": {},
   "source": [
    "### ¿Cuanto dinero podríamos ahorrar fidelizando mejor a nuestros empleados?"
   ]
  },
  {
   "cell_type": "code",
   "execution_count": 12,
   "id": "dc958aad",
   "metadata": {},
   "outputs": [
    {
     "name": "stdout",
     "output_type": "stream",
     "text": [
      "Reducir un 10% la fuga de empleados nos ahorraría 271900$ cada año.\n",
      "Reducir un 20% la fuga de empleados nos ahorraría 543801$ cada año.\n",
      "Reducir un 30% la fuga de empleados nos ahorraría 815701$ cada año.\n"
     ]
    }
   ],
   "source": [
    "print(f\"Reducir un 10% la fuga de empleados nos ahorraría {int(coste_total * 0.1)}$ cada año.\")\n",
    "\n",
    "print(f\"Reducir un 20% la fuga de empleados nos ahorraría {int(coste_total * 0.2)}$ cada año.\")\n",
    "\n",
    "print(f\"Reducir un 30% la fuga de empleados nos ahorraría {int(coste_total * 0.3)}$ cada año.\")"
   ]
  },
  {
   "cell_type": "markdown",
   "id": "c179e2df",
   "metadata": {},
   "source": [
    "### Más estrategias asociadas a los puntos clave de abandono:\n",
    "\n",
    "Habíamos visto que los representantes de ventas son el puesto que más se van. Vamos a intentar hacer un plan específico para ellos y ver cuál sería el coste ahorrado al disminuir la fuga un 30%\n",
    "\n",
    "Primero vamos a calcular el % de representantes de ventas que se han ido el año pasado"
   ]
  },
  {
   "cell_type": "code",
   "execution_count": 13,
   "id": "357eaca2",
   "metadata": {},
   "outputs": [
    {
     "data": {
      "text/plain": [
       "0.39759036144578314"
      ]
     },
     "execution_count": 13,
     "metadata": {},
     "output_type": "execute_result"
    }
   ],
   "source": [
    "total_repre_pasado = len(df.loc[df.puesto == 'Sales Representative'])\n",
    "abandonos_repre_pasado = len(df.loc[(df.puesto == 'Sales Representative') & (df.abandono == 1)])\n",
    "porc_pasado = abandonos_repre_pasado / total_repre_pasado\n",
    "\n",
    "porc_pasado"
   ]
  },
  {
   "cell_type": "markdown",
   "id": "dd156f4a",
   "metadata": {},
   "source": [
    "Estimemos cuántos se nos irán este año"
   ]
  },
  {
   "cell_type": "code",
   "execution_count": 15,
   "id": "752ddee3",
   "metadata": {},
   "outputs": [
    {
     "data": {
      "text/plain": [
       "19"
      ]
     },
     "execution_count": 15,
     "metadata": {},
     "output_type": "execute_result"
    }
   ],
   "source": [
    "total_repre_actual = len(df.loc[(df.puesto == 'Sales Representative') & (df.abandono == 0)])\n",
    "se_iran = int(total_repre_actual * porc_pasado)\n",
    "\n",
    "se_iran"
   ]
  },
  {
   "cell_type": "markdown",
   "id": "8ac8f32a",
   "metadata": {},
   "source": [
    "Sobre ellos cuantos podemos retener (hipótesis 30%) y cuanto dinero puede suponer"
   ]
  },
  {
   "cell_type": "code",
   "execution_count": 17,
   "id": "a3060c7e",
   "metadata": {},
   "outputs": [
    {
     "name": "stdout",
     "output_type": "stream",
     "text": [
      "Podemos retener 5 representantes de ventas y ello supondría ahorrar 37447.22424578312$.\n"
     ]
    }
   ],
   "source": [
    "retenemos = int(se_iran * 0.3)\n",
    "\n",
    "ahorramos = df.loc[(df.puesto == 'Sales Representative') & (df.abandono == 0),'impacto_abandono'].sum() * porc_pasado * 0.3\n",
    "\n",
    "print(f'Podemos retener {retenemos} representantes de ventas y ello supondría ahorrar {ahorramos}$.')"
   ]
  },
  {
   "cell_type": "markdown",
   "id": "7e3b0aae",
   "metadata": {},
   "source": [
    "Esto es interesante porque nos permite determinar el presupuesto para acciones de retención por departamento o perfil."
   ]
  },
  {
   "cell_type": "code",
   "execution_count": null,
   "id": "07e3a161",
   "metadata": {},
   "outputs": [],
   "source": []
  }
 ],
 "metadata": {
  "kernelspec": {
   "display_name": "Python 3",
   "language": "python",
   "name": "python3"
  },
  "language_info": {
   "codemirror_mode": {
    "name": "ipython",
    "version": 3
   },
   "file_extension": ".py",
   "mimetype": "text/x-python",
   "name": "python",
   "nbconvert_exporter": "python",
   "pygments_lexer": "ipython3",
   "version": "3.8.10"
  }
 },
 "nbformat": 4,
 "nbformat_minor": 5
}

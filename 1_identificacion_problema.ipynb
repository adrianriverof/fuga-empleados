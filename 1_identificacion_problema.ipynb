{
 "cells": [
  {
   "cell_type": "markdown",
   "id": "93303544",
   "metadata": {},
   "source": [
    "# Análisis de fuga de empleados"
   ]
  },
  {
   "cell_type": "markdown",
   "id": "06b5a92c",
   "metadata": {},
   "source": [
    "# 1- Identificación del problema"
   ]
  },
  {
   "cell_type": "markdown",
   "id": "8876a21b",
   "metadata": {},
   "source": [
    "### Descripción del requerimiento"
   ]
  },
  {
   "cell_type": "markdown",
   "id": "48b92142",
   "metadata": {},
   "source": [
    "Durante el último año se ha estado produciendo una marcha constante de capital humano. Esto está generando varios problemas para la empresa:\n",
    "\n",
    "* Fuga de talento y experiencia\n",
    "* Presión sobre RRHH para reemplazar empleados\n",
    "* Incremento de los costes asociados al reemplazo\n",
    "\n",
    "En este contexto, el Director de RRHH ha contactado con el equipo de Data Science para ver si analíticamente le podemos ayudar a:\n",
    "\n",
    "* Perfilar, concretar y cuantificar el problema\n",
    "* Identificar patrones o perfiles prioritarios sobre los que actuar\n",
    "* Definir una batería de acciones de fidelización tanto a nivel grupo de riesgo como a nivel empleado individual\n",
    "* Generar activos analíticos de apoyo que permitan al departamento de RRHH abordar este problema de forma más rápida y eficaz\n"
   ]
  },
  {
   "cell_type": "markdown",
   "id": "d70685d8",
   "metadata": {},
   "source": [
    "#### Carga de datos"
   ]
  },
  {
   "cell_type": "code",
   "execution_count": 7,
   "id": "009351eb",
   "metadata": {},
   "outputs": [],
   "source": [
    "import numpy as np\n",
    "import pandas as pd\n",
    "import matplotlib.pyplot as plt\n",
    "%matplotlib inline"
   ]
  },
  {
   "cell_type": "code",
   "execution_count": 15,
   "id": "32f5bc18",
   "metadata": {
    "scrolled": true
   },
   "outputs": [],
   "source": [
    "df = pd.read_csv('AbandonoEmpleados.csv', sep = ';', index_col= 'id', na_values='#N/D')"
   ]
  },
  {
   "cell_type": "code",
   "execution_count": 10,
   "id": "44b4f76f",
   "metadata": {},
   "outputs": [
    {
     "data": {
      "text/html": [
       "<div>\n",
       "<style scoped>\n",
       "    .dataframe tbody tr th:only-of-type {\n",
       "        vertical-align: middle;\n",
       "    }\n",
       "\n",
       "    .dataframe tbody tr th {\n",
       "        vertical-align: top;\n",
       "    }\n",
       "\n",
       "    .dataframe thead th {\n",
       "        text-align: right;\n",
       "    }\n",
       "</style>\n",
       "<table border=\"1\" class=\"dataframe\">\n",
       "  <thead>\n",
       "    <tr style=\"text-align: right;\">\n",
       "      <th></th>\n",
       "      <th>edad</th>\n",
       "      <th>abandono</th>\n",
       "      <th>viajes</th>\n",
       "      <th>departamento</th>\n",
       "      <th>distancia_casa</th>\n",
       "      <th>educacion</th>\n",
       "      <th>carrera</th>\n",
       "      <th>empleados</th>\n",
       "      <th>satisfaccion_entorno</th>\n",
       "      <th>sexo</th>\n",
       "      <th>...</th>\n",
       "      <th>satisfaccion_companeros</th>\n",
       "      <th>horas_quincena</th>\n",
       "      <th>nivel_acciones</th>\n",
       "      <th>anos_experiencia</th>\n",
       "      <th>num_formaciones_ult_ano</th>\n",
       "      <th>conciliacion</th>\n",
       "      <th>anos_compania</th>\n",
       "      <th>anos_en_puesto</th>\n",
       "      <th>anos_desde_ult_promocion</th>\n",
       "      <th>anos_con_manager_actual</th>\n",
       "    </tr>\n",
       "    <tr>\n",
       "      <th>id</th>\n",
       "      <th></th>\n",
       "      <th></th>\n",
       "      <th></th>\n",
       "      <th></th>\n",
       "      <th></th>\n",
       "      <th></th>\n",
       "      <th></th>\n",
       "      <th></th>\n",
       "      <th></th>\n",
       "      <th></th>\n",
       "      <th></th>\n",
       "      <th></th>\n",
       "      <th></th>\n",
       "      <th></th>\n",
       "      <th></th>\n",
       "      <th></th>\n",
       "      <th></th>\n",
       "      <th></th>\n",
       "      <th></th>\n",
       "      <th></th>\n",
       "      <th></th>\n",
       "    </tr>\n",
       "  </thead>\n",
       "  <tbody>\n",
       "    <tr>\n",
       "      <th>1</th>\n",
       "      <td>41</td>\n",
       "      <td>Yes</td>\n",
       "      <td>Travel_Rarely</td>\n",
       "      <td>Sales</td>\n",
       "      <td>1</td>\n",
       "      <td>Universitaria</td>\n",
       "      <td>Life Sciences</td>\n",
       "      <td>1</td>\n",
       "      <td>Media</td>\n",
       "      <td>3.0</td>\n",
       "      <td>...</td>\n",
       "      <td>Baja</td>\n",
       "      <td>80</td>\n",
       "      <td>0</td>\n",
       "      <td>8</td>\n",
       "      <td>0</td>\n",
       "      <td>NaN</td>\n",
       "      <td>6</td>\n",
       "      <td>NaN</td>\n",
       "      <td>0</td>\n",
       "      <td>5</td>\n",
       "    </tr>\n",
       "    <tr>\n",
       "      <th>2</th>\n",
       "      <td>49</td>\n",
       "      <td>No</td>\n",
       "      <td>Travel_Frequently</td>\n",
       "      <td>Research &amp; Development</td>\n",
       "      <td>8</td>\n",
       "      <td>Secundaria</td>\n",
       "      <td>Life Sciences</td>\n",
       "      <td>1</td>\n",
       "      <td>Alta</td>\n",
       "      <td>2.0</td>\n",
       "      <td>...</td>\n",
       "      <td>Muy_Alta</td>\n",
       "      <td>80</td>\n",
       "      <td>1</td>\n",
       "      <td>10</td>\n",
       "      <td>3</td>\n",
       "      <td>NaN</td>\n",
       "      <td>10</td>\n",
       "      <td>NaN</td>\n",
       "      <td>1</td>\n",
       "      <td>7</td>\n",
       "    </tr>\n",
       "    <tr>\n",
       "      <th>4</th>\n",
       "      <td>37</td>\n",
       "      <td>Yes</td>\n",
       "      <td>Travel_Rarely</td>\n",
       "      <td>Research &amp; Development</td>\n",
       "      <td>2</td>\n",
       "      <td>Secundaria</td>\n",
       "      <td>Other</td>\n",
       "      <td>1</td>\n",
       "      <td>Muy_Alta</td>\n",
       "      <td>2.0</td>\n",
       "      <td>...</td>\n",
       "      <td>Media</td>\n",
       "      <td>80</td>\n",
       "      <td>0</td>\n",
       "      <td>7</td>\n",
       "      <td>3</td>\n",
       "      <td>NaN</td>\n",
       "      <td>0</td>\n",
       "      <td>2.0</td>\n",
       "      <td>0</td>\n",
       "      <td>0</td>\n",
       "    </tr>\n",
       "    <tr>\n",
       "      <th>5</th>\n",
       "      <td>33</td>\n",
       "      <td>No</td>\n",
       "      <td>Travel_Frequently</td>\n",
       "      <td>Research &amp; Development</td>\n",
       "      <td>3</td>\n",
       "      <td>Universitaria</td>\n",
       "      <td>Life Sciences</td>\n",
       "      <td>1</td>\n",
       "      <td>Muy_Alta</td>\n",
       "      <td>3.0</td>\n",
       "      <td>...</td>\n",
       "      <td>Alta</td>\n",
       "      <td>80</td>\n",
       "      <td>0</td>\n",
       "      <td>8</td>\n",
       "      <td>3</td>\n",
       "      <td>NaN</td>\n",
       "      <td>8</td>\n",
       "      <td>3.0</td>\n",
       "      <td>3</td>\n",
       "      <td>0</td>\n",
       "    </tr>\n",
       "    <tr>\n",
       "      <th>7</th>\n",
       "      <td>27</td>\n",
       "      <td>No</td>\n",
       "      <td>Travel_Rarely</td>\n",
       "      <td>Research &amp; Development</td>\n",
       "      <td>2</td>\n",
       "      <td>Universitaria</td>\n",
       "      <td>Medical</td>\n",
       "      <td>1</td>\n",
       "      <td>Baja</td>\n",
       "      <td>3.0</td>\n",
       "      <td>...</td>\n",
       "      <td>Muy_Alta</td>\n",
       "      <td>80</td>\n",
       "      <td>1</td>\n",
       "      <td>6</td>\n",
       "      <td>3</td>\n",
       "      <td>NaN</td>\n",
       "      <td>2</td>\n",
       "      <td>NaN</td>\n",
       "      <td>2</td>\n",
       "      <td>2</td>\n",
       "    </tr>\n",
       "  </tbody>\n",
       "</table>\n",
       "<p>5 rows × 31 columns</p>\n",
       "</div>"
      ],
      "text/plain": [
       "    edad abandono             viajes            departamento  distancia_casa  \\\n",
       "id                                                                             \n",
       "1     41      Yes      Travel_Rarely                   Sales               1   \n",
       "2     49       No  Travel_Frequently  Research & Development               8   \n",
       "4     37      Yes      Travel_Rarely  Research & Development               2   \n",
       "5     33       No  Travel_Frequently  Research & Development               3   \n",
       "7     27       No      Travel_Rarely  Research & Development               2   \n",
       "\n",
       "        educacion        carrera  empleados satisfaccion_entorno  sexo  ...  \\\n",
       "id                                                                      ...   \n",
       "1   Universitaria  Life Sciences          1                Media   3.0  ...   \n",
       "2      Secundaria  Life Sciences          1                 Alta   2.0  ...   \n",
       "4      Secundaria          Other          1             Muy_Alta   2.0  ...   \n",
       "5   Universitaria  Life Sciences          1             Muy_Alta   3.0  ...   \n",
       "7   Universitaria        Medical          1                 Baja   3.0  ...   \n",
       "\n",
       "   satisfaccion_companeros  horas_quincena nivel_acciones anos_experiencia  \\\n",
       "id                                                                           \n",
       "1                     Baja              80              0                8   \n",
       "2                 Muy_Alta              80              1               10   \n",
       "4                    Media              80              0                7   \n",
       "5                     Alta              80              0                8   \n",
       "7                 Muy_Alta              80              1                6   \n",
       "\n",
       "   num_formaciones_ult_ano  conciliacion  anos_compania anos_en_puesto  \\\n",
       "id                                                                       \n",
       "1                        0           NaN              6            NaN   \n",
       "2                        3           NaN             10            NaN   \n",
       "4                        3           NaN              0            2.0   \n",
       "5                        3           NaN              8            3.0   \n",
       "7                        3           NaN              2            NaN   \n",
       "\n",
       "   anos_desde_ult_promocion  anos_con_manager_actual  \n",
       "id                                                    \n",
       "1                         0                        5  \n",
       "2                         1                        7  \n",
       "4                         0                        0  \n",
       "5                         3                        0  \n",
       "7                         2                        2  \n",
       "\n",
       "[5 rows x 31 columns]"
      ]
     },
     "execution_count": 10,
     "metadata": {},
     "output_type": "execute_result"
    }
   ],
   "source": [
    "df.head()"
   ]
  },
  {
   "cell_type": "code",
   "execution_count": 11,
   "id": "7839f48b",
   "metadata": {},
   "outputs": [
    {
     "name": "stdout",
     "output_type": "stream",
     "text": [
      "<class 'pandas.core.frame.DataFrame'>\n",
      "Int64Index: 1470 entries, 1 to 2068\n",
      "Data columns (total 31 columns):\n",
      " #   Column                    Non-Null Count  Dtype  \n",
      "---  ------                    --------------  -----  \n",
      " 0   edad                      1470 non-null   int64  \n",
      " 1   abandono                  1470 non-null   object \n",
      " 2   viajes                    1470 non-null   object \n",
      " 3   departamento              1470 non-null   object \n",
      " 4   distancia_casa            1470 non-null   int64  \n",
      " 5   educacion                 1369 non-null   object \n",
      " 6   carrera                   1470 non-null   object \n",
      " 7   empleados                 1470 non-null   int64  \n",
      " 8   satisfaccion_entorno      1470 non-null   object \n",
      " 9   sexo                      1271 non-null   float64\n",
      " 10  implicacion               1452 non-null   object \n",
      " 11  nivel_laboral             1470 non-null   int64  \n",
      " 12  puesto                    1470 non-null   object \n",
      " 13  satisfaccion_trabajo      1394 non-null   object \n",
      " 14  estado_civil              1470 non-null   object \n",
      " 15  salario_mes               1470 non-null   int64  \n",
      " 16  num_empresas_anteriores   1470 non-null   int64  \n",
      " 17  mayor_edad                1470 non-null   object \n",
      " 18  horas_extra               1470 non-null   object \n",
      " 19  incremento_salario_porc   1470 non-null   int64  \n",
      " 20  evaluacion                1470 non-null   object \n",
      " 21  satisfaccion_companeros   1470 non-null   object \n",
      " 22  horas_quincena            1470 non-null   int64  \n",
      " 23  nivel_acciones            1470 non-null   int64  \n",
      " 24  anos_experiencia          1470 non-null   int64  \n",
      " 25  num_formaciones_ult_ano   1470 non-null   int64  \n",
      " 26  conciliacion              459 non-null    object \n",
      " 27  anos_compania             1470 non-null   int64  \n",
      " 28  anos_en_puesto            232 non-null    float64\n",
      " 29  anos_desde_ult_promocion  1470 non-null   int64  \n",
      " 30  anos_con_manager_actual   1470 non-null   int64  \n",
      "dtypes: float64(2), int64(14), object(15)\n",
      "memory usage: 367.5+ KB\n"
     ]
    }
   ],
   "source": [
    "df.info()"
   ]
  },
  {
   "cell_type": "markdown",
   "id": "ec6e7089",
   "metadata": {},
   "source": [
    "#### ANÁLISIS DE NULOS"
   ]
  },
  {
   "cell_type": "code",
   "execution_count": 12,
   "id": "4c9a578a",
   "metadata": {},
   "outputs": [
    {
     "data": {
      "text/plain": [
       "anos_en_puesto              1238\n",
       "conciliacion                1011\n",
       "sexo                         199\n",
       "educacion                    101\n",
       "satisfaccion_trabajo          76\n",
       "implicacion                   18\n",
       "edad                           0\n",
       "nivel_acciones                 0\n",
       "evaluacion                     0\n",
       "satisfaccion_companeros        0\n",
       "horas_quincena                 0\n",
       "anos_experiencia               0\n",
       "horas_extra                    0\n",
       "num_formaciones_ult_ano        0\n",
       "anos_compania                  0\n",
       "anos_desde_ult_promocion       0\n",
       "incremento_salario_porc        0\n",
       "salario_mes                    0\n",
       "mayor_edad                     0\n",
       "num_empresas_anteriores        0\n",
       "abandono                       0\n",
       "estado_civil                   0\n",
       "puesto                         0\n",
       "nivel_laboral                  0\n",
       "satisfaccion_entorno           0\n",
       "empleados                      0\n",
       "carrera                        0\n",
       "distancia_casa                 0\n",
       "departamento                   0\n",
       "viajes                         0\n",
       "anos_con_manager_actual        0\n",
       "dtype: int64"
      ]
     },
     "execution_count": 12,
     "metadata": {},
     "output_type": "execute_result"
    }
   ],
   "source": [
    "df.isna().sum().sort_values(ascending = False)"
   ]
  },
  {
   "cell_type": "markdown",
   "id": "83ee9b83",
   "metadata": {},
   "source": [
    "Conclusiones:\n",
    "\n",
    "* anos_en_puesto y conciliacion tienen demasiados nulos --> eliminar Variables\n",
    "* sexo, educacion, satisfaccion_trabajo e implicacion --> imputarlos tras EDA"
   ]
  },
  {
   "cell_type": "code",
   "execution_count": 16,
   "id": "b64554d8",
   "metadata": {},
   "outputs": [],
   "source": [
    "df.drop(columns = ['anos_en_puesto','conciliacion'], inplace = True)\n",
    "# eliminamos estas variables que tienen demasiados nulos"
   ]
  },
  {
   "cell_type": "markdown",
   "id": "654b5d85",
   "metadata": {},
   "source": [
    "#### EDA VARIABLES CATEGÓRICAS (Analisis Exploratorio de Datos)"
   ]
  },
  {
   "cell_type": "code",
   "execution_count": 17,
   "id": "193d78d6",
   "metadata": {},
   "outputs": [],
   "source": [
    "def graficos_eda_categoricos(cat):\n",
    "    \n",
    "    #Calculamos el número de filas que necesitamos\n",
    "    from math import ceil\n",
    "    filas = ceil(cat.shape[1] / 2)\n",
    "\n",
    "    #Definimos el gráfico\n",
    "    f, ax = plt.subplots(nrows = filas, ncols = 2, figsize = (16, filas * 6))\n",
    "\n",
    "    #Aplanamos para iterar por el gráfico como si fuera de 1 dimensión en lugar de 2\n",
    "    ax = ax.flat \n",
    "\n",
    "    #Creamos el bucle que va añadiendo gráficos\n",
    "    for cada, variable in enumerate(cat):\n",
    "        cat[variable].value_counts().plot.barh(ax = ax[cada])\n",
    "        ax[cada].set_title(variable, fontsize = 12, fontweight = \"bold\")\n",
    "        ax[cada].tick_params(labelsize = 12)"
   ]
  },
  {
   "cell_type": "code",
   "execution_count": 18,
   "id": "9902ed3c",
   "metadata": {},
   "outputs": [
    {
     "data": {
      "image/png": "[encoded data removed]",
      "text/plain": [
       "<Figure size 1152x3024 with 14 Axes>"
      ]
     },
     "metadata": {
      "needs_background": "light"
     },
     "output_type": "display_data"
    }
   ],
   "source": [
    "graficos_eda_categoricos(df.select_dtypes('O'))"
   ]
  },
  {
   "cell_type": "markdown",
   "id": "3b8df150",
   "metadata": {},
   "source": [
    "Conclusiones:\n",
    "\n",
    "* mayor_edad solo tiene un valor --> eliminarla\n",
    "* Sobre las imputaciones pendientes de variables categóricas:\n",
    "  * educacion: imputar por 'Universitaria'\n",
    "  * satisfaccion_trabajo: imputar por 'Alta'\n",
    "  * implicacion: imputar por 'Alta'"
   ]
  },
  {
   "cell_type": "code",
   "execution_count": 20,
   "id": "a5f31359",
   "metadata": {},
   "outputs": [],
   "source": [
    "df.drop(columns = 'mayor_edad', inplace = True)\n",
    "\n",
    "df['educacion'] = df['educacion'].fillna('Universitaria')\n",
    "\n",
    "df['satisfaccion_trabajo'] = df['satisfaccion_trabajo'].fillna('Alta')\n",
    "\n",
    "df['implicacion'] = df['implicacion'].fillna('Alta')"
   ]
  },
  {
   "cell_type": "markdown",
   "id": "6925024e",
   "metadata": {},
   "source": [
    "#### EDA VARIABLES NUMÉRICAS"
   ]
  },
  {
   "cell_type": "code",
   "execution_count": 21,
   "id": "e8ff80cf",
   "metadata": {},
   "outputs": [],
   "source": [
    "def estadisticos_cont(num):\n",
    "    #Calculamos describe\n",
    "    estadisticos = num.describe().T\n",
    "    #Añadimos la mediana\n",
    "    estadisticos['median'] = num.median()\n",
    "    #Reordenamos para que la mediana esté al lado de la media\n",
    "    estadisticos = estadisticos.iloc[:,[0,1,8,2,3,4,5,6,7]]\n",
    "    #Lo devolvemos\n",
    "    return(estadisticos)"
   ]
  },
  {
   "cell_type": "code",
   "execution_count": 22,
   "id": "370ae4ab",
   "metadata": {},
   "outputs": [
    {
     "data": {
      "text/html": [
       "<div>\n",
       "<style scoped>\n",
       "    .dataframe tbody tr th:only-of-type {\n",
       "        vertical-align: middle;\n",
       "    }\n",
       "\n",
       "    .dataframe tbody tr th {\n",
       "        vertical-align: top;\n",
       "    }\n",
       "\n",
       "    .dataframe thead th {\n",
       "        text-align: right;\n",
       "    }\n",
       "</style>\n",
       "<table border=\"1\" class=\"dataframe\">\n",
       "  <thead>\n",
       "    <tr style=\"text-align: right;\">\n",
       "      <th></th>\n",
       "      <th>count</th>\n",
       "      <th>mean</th>\n",
       "      <th>median</th>\n",
       "      <th>std</th>\n",
       "      <th>min</th>\n",
       "      <th>25%</th>\n",
       "      <th>50%</th>\n",
       "      <th>75%</th>\n",
       "      <th>max</th>\n",
       "    </tr>\n",
       "  </thead>\n",
       "  <tbody>\n",
       "    <tr>\n",
       "      <th>edad</th>\n",
       "      <td>1470.0</td>\n",
       "      <td>36.923810</td>\n",
       "      <td>36.0</td>\n",
       "      <td>9.135373</td>\n",
       "      <td>18.0</td>\n",
       "      <td>30.0</td>\n",
       "      <td>36.0</td>\n",
       "      <td>43.0</td>\n",
       "      <td>60.0</td>\n",
       "    </tr>\n",
       "    <tr>\n",
       "      <th>distancia_casa</th>\n",
       "      <td>1470.0</td>\n",
       "      <td>9.192517</td>\n",
       "      <td>7.0</td>\n",
       "      <td>8.106864</td>\n",
       "      <td>1.0</td>\n",
       "      <td>2.0</td>\n",
       "      <td>7.0</td>\n",
       "      <td>14.0</td>\n",
       "      <td>29.0</td>\n",
       "    </tr>\n",
       "    <tr>\n",
       "      <th>empleados</th>\n",
       "      <td>1470.0</td>\n",
       "      <td>1.000000</td>\n",
       "      <td>1.0</td>\n",
       "      <td>0.000000</td>\n",
       "      <td>1.0</td>\n",
       "      <td>1.0</td>\n",
       "      <td>1.0</td>\n",
       "      <td>1.0</td>\n",
       "      <td>1.0</td>\n",
       "    </tr>\n",
       "    <tr>\n",
       "      <th>sexo</th>\n",
       "      <td>1271.0</td>\n",
       "      <td>2.727773</td>\n",
       "      <td>3.0</td>\n",
       "      <td>0.720788</td>\n",
       "      <td>1.0</td>\n",
       "      <td>2.0</td>\n",
       "      <td>3.0</td>\n",
       "      <td>3.0</td>\n",
       "      <td>4.0</td>\n",
       "    </tr>\n",
       "    <tr>\n",
       "      <th>nivel_laboral</th>\n",
       "      <td>1470.0</td>\n",
       "      <td>2.063946</td>\n",
       "      <td>2.0</td>\n",
       "      <td>1.106940</td>\n",
       "      <td>1.0</td>\n",
       "      <td>1.0</td>\n",
       "      <td>2.0</td>\n",
       "      <td>3.0</td>\n",
       "      <td>5.0</td>\n",
       "    </tr>\n",
       "    <tr>\n",
       "      <th>salario_mes</th>\n",
       "      <td>1470.0</td>\n",
       "      <td>6502.931293</td>\n",
       "      <td>4919.0</td>\n",
       "      <td>4707.956783</td>\n",
       "      <td>1009.0</td>\n",
       "      <td>2911.0</td>\n",
       "      <td>4919.0</td>\n",
       "      <td>8379.0</td>\n",
       "      <td>19999.0</td>\n",
       "    </tr>\n",
       "    <tr>\n",
       "      <th>num_empresas_anteriores</th>\n",
       "      <td>1470.0</td>\n",
       "      <td>2.693197</td>\n",
       "      <td>2.0</td>\n",
       "      <td>2.498009</td>\n",
       "      <td>0.0</td>\n",
       "      <td>1.0</td>\n",
       "      <td>2.0</td>\n",
       "      <td>4.0</td>\n",
       "      <td>9.0</td>\n",
       "    </tr>\n",
       "    <tr>\n",
       "      <th>incremento_salario_porc</th>\n",
       "      <td>1470.0</td>\n",
       "      <td>15.209524</td>\n",
       "      <td>14.0</td>\n",
       "      <td>3.659938</td>\n",
       "      <td>11.0</td>\n",
       "      <td>12.0</td>\n",
       "      <td>14.0</td>\n",
       "      <td>18.0</td>\n",
       "      <td>25.0</td>\n",
       "    </tr>\n",
       "    <tr>\n",
       "      <th>horas_quincena</th>\n",
       "      <td>1470.0</td>\n",
       "      <td>80.000000</td>\n",
       "      <td>80.0</td>\n",
       "      <td>0.000000</td>\n",
       "      <td>80.0</td>\n",
       "      <td>80.0</td>\n",
       "      <td>80.0</td>\n",
       "      <td>80.0</td>\n",
       "      <td>80.0</td>\n",
       "    </tr>\n",
       "    <tr>\n",
       "      <th>nivel_acciones</th>\n",
       "      <td>1470.0</td>\n",
       "      <td>0.793878</td>\n",
       "      <td>1.0</td>\n",
       "      <td>0.852077</td>\n",
       "      <td>0.0</td>\n",
       "      <td>0.0</td>\n",
       "      <td>1.0</td>\n",
       "      <td>1.0</td>\n",
       "      <td>3.0</td>\n",
       "    </tr>\n",
       "    <tr>\n",
       "      <th>anos_experiencia</th>\n",
       "      <td>1470.0</td>\n",
       "      <td>11.279592</td>\n",
       "      <td>10.0</td>\n",
       "      <td>7.780782</td>\n",
       "      <td>0.0</td>\n",
       "      <td>6.0</td>\n",
       "      <td>10.0</td>\n",
       "      <td>15.0</td>\n",
       "      <td>40.0</td>\n",
       "    </tr>\n",
       "    <tr>\n",
       "      <th>num_formaciones_ult_ano</th>\n",
       "      <td>1470.0</td>\n",
       "      <td>2.799320</td>\n",
       "      <td>3.0</td>\n",
       "      <td>1.289271</td>\n",
       "      <td>0.0</td>\n",
       "      <td>2.0</td>\n",
       "      <td>3.0</td>\n",
       "      <td>3.0</td>\n",
       "      <td>6.0</td>\n",
       "    </tr>\n",
       "    <tr>\n",
       "      <th>anos_compania</th>\n",
       "      <td>1470.0</td>\n",
       "      <td>7.008163</td>\n",
       "      <td>5.0</td>\n",
       "      <td>6.126525</td>\n",
       "      <td>0.0</td>\n",
       "      <td>3.0</td>\n",
       "      <td>5.0</td>\n",
       "      <td>9.0</td>\n",
       "      <td>40.0</td>\n",
       "    </tr>\n",
       "    <tr>\n",
       "      <th>anos_desde_ult_promocion</th>\n",
       "      <td>1470.0</td>\n",
       "      <td>2.187755</td>\n",
       "      <td>1.0</td>\n",
       "      <td>3.222430</td>\n",
       "      <td>0.0</td>\n",
       "      <td>0.0</td>\n",
       "      <td>1.0</td>\n",
       "      <td>3.0</td>\n",
       "      <td>15.0</td>\n",
       "    </tr>\n",
       "    <tr>\n",
       "      <th>anos_con_manager_actual</th>\n",
       "      <td>1470.0</td>\n",
       "      <td>4.123129</td>\n",
       "      <td>3.0</td>\n",
       "      <td>3.568136</td>\n",
       "      <td>0.0</td>\n",
       "      <td>2.0</td>\n",
       "      <td>3.0</td>\n",
       "      <td>7.0</td>\n",
       "      <td>17.0</td>\n",
       "    </tr>\n",
       "  </tbody>\n",
       "</table>\n",
       "</div>"
      ],
      "text/plain": [
       "                           count         mean  median          std     min  \\\n",
       "edad                      1470.0    36.923810    36.0     9.135373    18.0   \n",
       "distancia_casa            1470.0     9.192517     7.0     8.106864     1.0   \n",
       "empleados                 1470.0     1.000000     1.0     0.000000     1.0   \n",
       "sexo                      1271.0     2.727773     3.0     0.720788     1.0   \n",
       "nivel_laboral             1470.0     2.063946     2.0     1.106940     1.0   \n",
       "salario_mes               1470.0  6502.931293  4919.0  4707.956783  1009.0   \n",
       "num_empresas_anteriores   1470.0     2.693197     2.0     2.498009     0.0   \n",
       "incremento_salario_porc   1470.0    15.209524    14.0     3.659938    11.0   \n",
       "horas_quincena            1470.0    80.000000    80.0     0.000000    80.0   \n",
       "nivel_acciones            1470.0     0.793878     1.0     0.852077     0.0   \n",
       "anos_experiencia          1470.0    11.279592    10.0     7.780782     0.0   \n",
       "num_formaciones_ult_ano   1470.0     2.799320     3.0     1.289271     0.0   \n",
       "anos_compania             1470.0     7.008163     5.0     6.126525     0.0   \n",
       "anos_desde_ult_promocion  1470.0     2.187755     1.0     3.222430     0.0   \n",
       "anos_con_manager_actual   1470.0     4.123129     3.0     3.568136     0.0   \n",
       "\n",
       "                             25%     50%     75%      max  \n",
       "edad                        30.0    36.0    43.0     60.0  \n",
       "distancia_casa               2.0     7.0    14.0     29.0  \n",
       "empleados                    1.0     1.0     1.0      1.0  \n",
       "sexo                         2.0     3.0     3.0      4.0  \n",
       "nivel_laboral                1.0     2.0     3.0      5.0  \n",
       "salario_mes               2911.0  4919.0  8379.0  19999.0  \n",
       "num_empresas_anteriores      1.0     2.0     4.0      9.0  \n",
       "incremento_salario_porc     12.0    14.0    18.0     25.0  \n",
       "horas_quincena              80.0    80.0    80.0     80.0  \n",
       "nivel_acciones               0.0     1.0     1.0      3.0  \n",
       "anos_experiencia             6.0    10.0    15.0     40.0  \n",
       "num_formaciones_ult_ano      2.0     3.0     3.0      6.0  \n",
       "anos_compania                3.0     5.0     9.0     40.0  \n",
       "anos_desde_ult_promocion     0.0     1.0     3.0     15.0  \n",
       "anos_con_manager_actual      2.0     3.0     7.0     17.0  "
      ]
     },
     "execution_count": 22,
     "metadata": {},
     "output_type": "execute_result"
    }
   ],
   "source": [
    "estadisticos_cont(df.select_dtypes('number'))"
   ]
  },
  {
   "cell_type": "markdown",
   "id": "7371654a",
   "metadata": {},
   "source": [
    "Conclusiones:\n",
    "\n",
    "* Empleados solo tiene un valor --> Eliminarla\n",
    "* Sexo tiene 4 valores --> Eliminarla\n",
    "* Horas quincena solo tiene una valor --> Eliminarla\n",
    "* De los nulos pendientes de imputación que sean numéricas solo está el sexo, pero como la vamos a eliminar ya no hay que imputar nada\n"
   ]
  },
  {
   "cell_type": "code",
   "execution_count": 23,
   "id": "d09688e1",
   "metadata": {},
   "outputs": [],
   "source": [
    "df.drop(columns = ['empleados','sexo','horas_quincena'], inplace = True)"
   ]
  },
  {
   "cell_type": "markdown",
   "id": "5513b783",
   "metadata": {},
   "source": [
    "## Puntos Clave"
   ]
  },
  {
   "cell_type": "markdown",
   "id": "81d7f703",
   "metadata": {},
   "source": [
    "### Cuantificación del problema: ¿Cual es la tasa de abandono?"
   ]
  },
  {
   "cell_type": "code",
   "execution_count": 24,
   "id": "63b9c408",
   "metadata": {},
   "outputs": [
    {
     "data": {
      "text/plain": [
       "No     83.877551\n",
       "Yes    16.122449\n",
       "Name: abandono, dtype: float64"
      ]
     },
     "execution_count": 24,
     "metadata": {},
     "output_type": "execute_result"
    }
   ],
   "source": [
    "df.abandono.value_counts(normalize = True) * 100"
   ]
  },
  {
   "cell_type": "markdown",
   "id": "9ee5b679",
   "metadata": {},
   "source": [
    "### ¿Hay un perfil tipo de empleado que deja la empresa?"
   ]
  },
  {
   "cell_type": "code",
   "execution_count": 25,
   "id": "8dc12ec7",
   "metadata": {},
   "outputs": [],
   "source": [
    "# Transformar abandono a numérica\n",
    "df['abandono'] = df.abandono.map({'No':0, 'Yes':1})"
   ]
  },
  {
   "cell_type": "code",
   "execution_count": 26,
   "id": "d51ce602",
   "metadata": {},
   "outputs": [
    {
     "data": {
      "image/png": "[encoded data removed]",
      "text/plain": [
       "<Figure size 432x288 with 1 Axes>"
      ]
     },
     "metadata": {
      "needs_background": "light"
     },
     "output_type": "display_data"
    }
   ],
   "source": [
    "# Analisis por educación\n",
    "temp = df.groupby('educacion').abandono.mean().sort_values(ascending = False) * 100\n",
    "temp.plot.bar();"
   ]
  },
  {
   "cell_type": "code",
   "execution_count": 27,
   "id": "71e8ae39",
   "metadata": {},
   "outputs": [
    {
     "data": {
      "image/png": "[encoded data removed]",
      "text/plain": [
       "<Figure size 432x288 with 1 Axes>"
      ]
     },
     "metadata": {
      "needs_background": "light"
     },
     "output_type": "display_data"
    }
   ],
   "source": [
    "# Analisis por estado civil\n",
    "temp = df.groupby('estado_civil').abandono.mean().sort_values(ascending = False) * 100\n",
    "temp.plot.bar();"
   ]
  },
  {
   "cell_type": "code",
   "execution_count": 28,
   "id": "9ece424c",
   "metadata": {},
   "outputs": [
    {
     "data": {
      "image/png": "[encoded data removed]",
      "text/plain": [
       "<Figure size 432x288 with 1 Axes>"
      ]
     },
     "metadata": {
      "needs_background": "light"
     },
     "output_type": "display_data"
    }
   ],
   "source": [
    "# Analisis por horas extras\n",
    "temp = df.groupby('horas_extra').abandono.mean().sort_values(ascending = False) * 100\n",
    "temp.plot.bar();"
   ]
  },
  {
   "cell_type": "code",
   "execution_count": 29,
   "id": "8f2c122f",
   "metadata": {},
   "outputs": [
    {
     "data": {
      "image/png": "[encoded data removed]",
      "text/plain": [
       "<Figure size 432x288 with 1 Axes>"
      ]
     },
     "metadata": {
      "needs_background": "light"
     },
     "output_type": "display_data"
    }
   ],
   "source": [
    "# Analisis por puesto\n",
    "temp = df.groupby('puesto').abandono.mean().sort_values(ascending = False) * 100\n",
    "temp.plot.bar();"
   ]
  },
  {
   "cell_type": "code",
   "execution_count": 30,
   "id": "0e7ca069",
   "metadata": {},
   "outputs": [
    {
     "data": {
      "image/png": "[encoded data removed]",
      "text/plain": [
       "<Figure size 432x288 with 1 Axes>"
      ]
     },
     "metadata": {
      "needs_background": "light"
     },
     "output_type": "display_data"
    }
   ],
   "source": [
    "temp = df.groupby('abandono').salario_mes.mean()\n",
    "temp.plot.bar();"
   ]
  },
  {
   "cell_type": "markdown",
   "id": "2a413e93",
   "metadata": {},
   "source": [
    "en el anterior gráfico vemos que los que tienen \"abandono = yes\" tienen un salario medio más bajo"
   ]
  },
  {
   "cell_type": "markdown",
   "id": "d4ca7ac6",
   "metadata": {},
   "source": [
    "### Conclusiones:\n",
    "\n",
    "El perfil medio del empleado que deja la empresa es:\n",
    "\n",
    "* Bajo nivel educativo\n",
    "* Soltero\n",
    "* Trabaja en ventas\n",
    "* Bajo salario\n",
    "* Alta carga de horas extras"
   ]
  },
  {
   "cell_type": "markdown",
   "id": "19f63632",
   "metadata": {},
   "source": [
    "### Exportación de la tabla procesada"
   ]
  },
  {
   "cell_type": "code",
   "execution_count": 36,
   "id": "c57f5ac3",
   "metadata": {},
   "outputs": [],
   "source": [
    "df.to_csv(\"AbandonoProcesado.csv\")"
   ]
  }
 ],
 "metadata": {
  "kernelspec": {
   "display_name": "Python 3",
   "language": "python",
   "name": "python3"
  },
  "language_info": {
   "codemirror_mode": {
    "name": "ipython",
    "version": 3
   },
   "file_extension": ".py",
   "mimetype": "text/x-python",
   "name": "python",
   "nbconvert_exporter": "python",
   "pygments_lexer": "ipython3",
   "version": "3.8.10"
  }
 },
 "nbformat": 4,
 "nbformat_minor": 5
}
